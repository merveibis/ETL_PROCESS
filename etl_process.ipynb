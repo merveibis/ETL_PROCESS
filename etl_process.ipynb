{
  "nbformat": 4,
  "nbformat_minor": 0,
  "metadata": {
    "colab": {
      "provenance": []
    },
    "kernelspec": {
      "name": "python3",
      "display_name": "Python 3"
    },
    "language_info": {
      "name": "python"
    }
  },
  "cells": [
    {
      "cell_type": "markdown",
      "source": [
        "# **Extract Transform Load (ETL)**"
      ],
      "metadata": {
        "id": "IqULL6xaA1zK"
      }
    },
    {
      "cell_type": "markdown",
      "source": [
        "Bu bölümde;\n",
        "*   CSV ve JSON formatında dosya türlerini okuyacağız.\n",
        "*   Bu formattaki dosyalardan data 'extract' layacağız :)\n",
        "*   Çıkardığımız dataları gerekli formata 'transform' edeceğiz\n",
        "*   Dönüştürdüğümüz dataları veri mühendislerinin veya ihtiyacı olan kullanıcılarımızın rahatlıkla bir RDBMS'e yüklemeye hazır hale getireceğiz ..\n",
        "\n",
        "GO GO GO ->"
      ],
      "metadata": {
        "id": "UB5NvXNBBIg6"
      }
    },
    {
      "cell_type": "markdown",
      "source": [
        "Gerekli modülleri ve fonksiyonlarımızı projemize entegre edelim.."
      ],
      "metadata": {
        "id": "L9GxJ1PDCHng"
      }
    },
    {
      "cell_type": "code",
      "execution_count": null,
      "metadata": {
        "id": "M4hqtFU-ApyH"
      },
      "outputs": [],
      "source": [
        "import glob                                                                     # bu modül dosyalarımızı seçmemize yardım eder\n",
        "import pandas as pd                                                             # bu modül CSV dosyalarımızı işlememize yardım eder\n",
        "import xml.etree.ElementTree as ET                                              # bu modül XML dosyalarımızı işmememize yardım eder.\n",
        "from datetime import datetime"
      ]
    },
    {
      "cell_type": "markdown",
      "source": [
        "**glos Modülü**"
      ],
      "metadata": {
        "id": "H3Yrx7LNEM6O"
      }
    },
    {
      "cell_type": "markdown",
      "source": [
        " Python'da glob fonksiyonu, belirli bir klasördeki dosya ve dizinleri belirli bir kalıp (pattern) kullanarak eşleştirmek için kullanılır. Bu fonksiyon, dosya ve dizin işlemleri yaparken belirli dosya türlerini veya isim düzenlemelerini filtrelemek veya listelemek için kullanışlıdır.\n",
        "\n",
        " glob fonksiyonunun çalışma mantığı, bir klasördeki dosya ve dizinleri belirli bir kalıp ile eşleştirerek bu eşleşen öğeleri bir liste olarak döndürmesidir."
      ],
      "metadata": {
        "id": "RKDz9_DiDh1e"
      }
    },
    {
      "cell_type": "markdown",
      "source": [
        "**pandas Modülü**"
      ],
      "metadata": {
        "id": "ZwfrHbXUEsbi"
      }
    },
    {
      "cell_type": "markdown",
      "source": [
        "Pandas, Python programlama dilinde veri manipülasyonu ve analizi için kullanılan güçlü bir kütüphanedir. Pandas, veri işleme süreçlerini kolaylaştıran yüksek düzeyde yapılandırılmış veri yapıları ve veri analiz araçları sağlar. Temel olarak, pandas veri analisti ve veri bilimciler tarafından verilerin yüklenmesi, işlenmesi, temizlenmesi, dönüştürülmesi ve analiz edilmesi için kullanılır.\n",
        "\n",
        "Pandas, veri dosyalarını (CSV, Excel, SQL vb.) yüklemek için kullanılabilir, veri setlerinde eksik verileri doldurmak veya çıkarmak için işlemler yapabilir, verileri sıralayabilir, filtreleyebilir, gruplayabilir ve aggrege edebilir, verileri birleştirebilir ve dönüştürebilir, verileri grafikler ve grafiklerle görselleştirebilir."
      ],
      "metadata": {
        "id": "K0-k-7KtE2fo"
      }
    },
    {
      "cell_type": "markdown",
      "source": [
        "**ElementTree Modülü**"
      ],
      "metadata": {
        "id": "Jce4Tnd0E9wQ"
      }
    },
    {
      "cell_type": "markdown",
      "source": [
        "ElementTree modülü, Python'da XML (Extensible Markup Language) belgelerini işlemek ve analiz etmek için kullanılan bir kütüphanedir. XML, yapılandırılmış verileri taşımak için kullanılan bir işaretleme dilidir ve ağaç benzeri bir yapıda düzenlenmiş veriler içerir.\n",
        "\n",
        "ElementTree modülü, XML belgelerini okumak, oluşturmak ve düzenlemek için bir dizi işlev ve sınıf içerir. Bu modül sayesinde, XML belgelerini bir Python programında veri yapısı olarak temsil edebilir ve bu belgeleri işlemek için gerekli işlemleri yapabilirsiniz.\n"
      ],
      "metadata": {
        "id": "dwlfWzhyFEzm"
      }
    },
    {
      "cell_type": "markdown",
      "source": [
        "** **kalın metin**Dosyalarımızı Yükleyelim**"
      ],
      "metadata": {
        "id": "sLmaZtEjFRzB"
      }
    },
    {
      "cell_type": "markdown",
      "source": [
        "Bu komut, belirtilen URL'den bir dosya indirmek için wget komutunu kullanır. İndirilecek dosya, \"source.zip\" adlı bir zip dosyasıdır. İlgili URL, veri dosyasının bulunduğu konumu belirtir."
      ],
      "metadata": {
        "id": "t0w7Pd07Ft7K"
      }
    },
    {
      "cell_type": "code",
      "source": [
        "!wget https://cf-courses-data.s3.us.cloud-object-storage.appdomain.cloud/IBMDeveloperSkillsNetwork-PY0221EN-SkillsNetwork/labs/module%206/Lab%20-%20Extract%20Transform%20Load/data/source.zip"
      ],
      "metadata": {
        "colab": {
          "base_uri": "https://localhost:8080/"
        },
        "id": "g5cj7L0pFV2c",
        "outputId": "96a2d6ed-f7b4-4f1d-cb3c-f307f8061ead"
      },
      "execution_count": null,
      "outputs": [
        {
          "output_type": "stream",
          "name": "stdout",
          "text": [
            "--2023-08-07 17:41:03--  https://cf-courses-data.s3.us.cloud-object-storage.appdomain.cloud/IBMDeveloperSkillsNetwork-PY0221EN-SkillsNetwork/labs/module%206/Lab%20-%20Extract%20Transform%20Load/data/source.zip\n",
            "Resolving cf-courses-data.s3.us.cloud-object-storage.appdomain.cloud (cf-courses-data.s3.us.cloud-object-storage.appdomain.cloud)... 169.63.118.104\n",
            "Connecting to cf-courses-data.s3.us.cloud-object-storage.appdomain.cloud (cf-courses-data.s3.us.cloud-object-storage.appdomain.cloud)|169.63.118.104|:443... connected.\n",
            "HTTP request sent, awaiting response... 200 OK\n",
            "Length: 2707 (2.6K) [application/zip]\n",
            "Saving to: ‘source.zip’\n",
            "\n",
            "source.zip          100%[===================>]   2.64K  --.-KB/s    in 0s      \n",
            "\n",
            "2023-08-07 17:41:03 (1.22 GB/s) - ‘source.zip’ saved [2707/2707]\n",
            "\n"
          ]
        }
      ]
    },
    {
      "cell_type": "markdown",
      "source": [
        "**Dosyalarımızı Unzip'leyelim**"
      ],
      "metadata": {
        "id": "bQa39Br5F77z"
      }
    },
    {
      "cell_type": "code",
      "source": [
        "!unzip source.zip"
      ],
      "metadata": {
        "colab": {
          "base_uri": "https://localhost:8080/"
        },
        "id": "hU1Pue6UGDH4",
        "outputId": "1e1192e1-4301-4da8-dc97-cd730ca62b3b"
      },
      "execution_count": null,
      "outputs": [
        {
          "output_type": "stream",
          "name": "stdout",
          "text": [
            "Archive:  source.zip\n",
            "  inflating: source3.json            \n",
            "  inflating: source1.csv             \n",
            "  inflating: source2.csv             \n",
            "  inflating: source3.csv             \n",
            "  inflating: source1.json            \n",
            "  inflating: source2.json            \n",
            "  inflating: source1.xml             \n",
            "  inflating: source2.xml             \n",
            "  inflating: source3.xml             \n"
          ]
        }
      ]
    },
    {
      "cell_type": "markdown",
      "source": [
        "**Dosyalarımızı kaydedeceğimiz path'lerimizi ayarlayalım**"
      ],
      "metadata": {
        "id": "O8mlkIzyGOAS"
      }
    },
    {
      "cell_type": "code",
      "source": [
        "tmpfile    = \"temp.tmp\"                                                         # Çıkardığımız tüm verilerimizi kaydetmek için kullanacağımız dosya\n",
        "logfile    = \"logfile.txt\"                                                      # Tüm log faaliyetlerimiz bu dosyada kaydedilecektir\n",
        "targetfile = \"transformed_data.csv\"                                             # Dönüştürdüğümüz verilerimizin tutulacağı dosya"
      ],
      "metadata": {
        "id": "NgsXVjY9GUnt"
      },
      "execution_count": null,
      "outputs": []
    },
    {
      "cell_type": "markdown",
      "source": [
        "# Extract (Çıkarma)"
      ],
      "metadata": {
        "id": "0KH58TnVGzaw"
      }
    },
    {
      "cell_type": "markdown",
      "source": [
        "*Minnik Not ▶*\n",
        "DataFrame, pandas kütüphanesinde bulunan ve Python'da verileri tablo şeklinde düzenleyen ve manipüle etmeye olanak tanıyan bir veri yapısıdır. Dataframe, veri analizi ve veri işleme işlemlerinde sıklıkla kullanılır ve tablo benzeri bir yapı sunarak verilerin satırlar ve sütunlar şeklinde organize edilmesini sağlar.\n",
        "\n",
        "Dataframe, tablo benzeri yapıya sahip iki boyutlu bir veri yapısıdır ve her bir sütun farklı bir veri türünü temsil edebilir. Veriler, bir veya birden fazla sütunda depolanabilir ve her bir satır, verilerin bir örneğini veya girdisini temsil eder."
      ],
      "metadata": {
        "id": "T6ZA8FLcIb0I"
      }
    },
    {
      "cell_type": "markdown",
      "source": [
        "Öncelikle CSV formatındaki dosyalarımızı çıkaracağımız fonksiyonumuzu oluşturalım"
      ],
      "metadata": {
        "id": "wFnrZ7ViG3hZ"
      }
    },
    {
      "cell_type": "code",
      "source": [
        "def extract_from_csv(file_to_process):                                          # \"file_to_process\" parametresi işlem yapılacak CSV dosyasının adı veya yolunu alır.\n",
        "    dataframe = pd.read_csv(file_to_process)                                    # Pandas kütüphanesindeki read_csv fonksiyonu,\n",
        "                                                                                  # belirtilen CSV dosyasını okur ve içindeki verileri bir DataFrame'e dönüştürür.\n",
        "    return dataframe                                                            # Oluşturulan DataFrame nesnesini fonksiyonun çağrıldığı yere döndürür"
      ],
      "metadata": {
        "id": "jAARJs5WGzB_"
      },
      "execution_count": null,
      "outputs": []
    },
    {
      "cell_type": "markdown",
      "source": [
        "Daha sonrasında JSON formatındaki dosyalarımızı çıkartmak için gerekli fonksiyonumuzu oluşturalım"
      ],
      "metadata": {
        "id": "1Wg5lQIsHCs_"
      }
    },
    {
      "cell_type": "code",
      "source": [
        "def extract_from_json(file_to_process):                                         # \"file_to_process\" parametresi işlem yapılacak JSON dosyasının adı veya yolunu alır.\n",
        "    dataframe = pd.read_json(file_to_process,lines=True)                        # Pandas kütüphanesindeki read_csv fonksiyonu,\n",
        "                                                                                  # belirtilen JSON dosyasını okur ve içindeki verileri bir DataFrame'e dönüştürür.\n",
        "                                                                                # 'lines=True' parametresi, JSON dosyasının satır satır okunmasını ve\n",
        "                                                                                #her bir satırın ayrı bir veri noktası olarak kabul edilmesini sağlar.\n",
        "    return dataframe                                                            # Oluşturulan DataFrame nesnesini fonksiyonun çağrıldığı yere döndürür"
      ],
      "metadata": {
        "id": "HCoBF7huHCZd"
      },
      "execution_count": null,
      "outputs": []
    },
    {
      "cell_type": "markdown",
      "source": [
        "Son olarak da XML formatındaki dosyalarımızı çıkartma işlemini gerçekleştirecek fonksiyonumuzu yazalım"
      ],
      "metadata": {
        "id": "k9JIhfolHPuF"
      }
    },
    {
      "cell_type": "code",
      "source": [
        "def extract_from_xml(file_to_process):                                          # \"file_to_process\" parametresi işlem yapılacak XML dosyasının adı veya yolunu alır.\n",
        "    dataframe = pd.DataFrame(columns=[\"name\", \"height\", \"weight\"])              # Sütunları \"name\", \"height\" ve \"weight\" isimleriyle boş bir pandas DataFrame nesnesi oluşturulur\n",
        "    tree = ET.parse(file_to_process)                                            # ElementTree modülündeki parse fonksiyonu kullanılarak XML dosyası ağaç yapısına çevrilir ve tree adlı bir değişkene atanır.\n",
        "                                                                                  # XML dosyasının ağaç yapısı, ElementTree modülü tarafından temsil edilir ve verileri gezinmeye olanak tanır.\n",
        "    root = tree.getroot()                                                       # XML ağacının kök düğümüne erişim sağlanır ve root adlı bir değişkene atanır.\n",
        "                                                                                  # Kök düğüm, XML belgesinin en üst düzey düğümüdür ve verileri gezinmeye başlamak için temel düğüm olarak kullanılır.\n",
        "    for person in root:                                                         # XML ağacındaki her \"person\" düğümü için bir döngü başlatır. Burada \"person\", XML dosyasındaki her \"person\" etiketini temsil eder.\n",
        "        name = person.find(\"name\").text                                         # Her \"person\" düğümünün altında bulunan \"name\" etiketini bulur ve içerdiği metni alarak \"name\" değişkenine atanır. find fonksiyonu, belirtilen etiketi bulmak için kullanılır.\n",
        "        height = float(person.find(\"height\").text)                              # Her \"person\" düğümünün altında bulunan \"height\" etiketini bulur ve içerdiği metni alarak float veri türüne dönüştürerek \"height\" değişkenine atanır.\n",
        "        weight = float(person.find(\"weight\").text)                              # Her \"person\" düğümünün altında bulunan \"weight\" etiketini bulur ve içerdiği metni alarak float veri türüne dönüştürerek \"weight\" değişkenine atanır.\n",
        "        dataframe = dataframe.append({\"name\":name, \"height\":height,             # Her \"person\" düğümünden alınan \"name\", \"height\" ve \"weight\" değerleri bir satır olarak pandas DataFrame'e eklenir. append fonksiyonu, DataFrame'e yeni bir satır eklemek için kullanılır.\n",
        "                                      \"weight\":weight}, ignore_index=True)        # ignore_index=True parametresi, satır eklenirken mevcut indeksin görmezden gelinmesini ve otomatik olarak yeni bir indeks oluşturulmasını sağlar.\n",
        "    return dataframe                                                            # Oluşturulan DataFrame nesnesini fonksiyonun çağrıldığı yere döndürür"
      ],
      "metadata": {
        "id": "GRrByB10HYrR"
      },
      "execution_count": null,
      "outputs": []
    },
    {
      "cell_type": "markdown",
      "source": [
        "Sıra geldi tüm dosya tiplerini çıkarma işlemimize ait fonksiyona;"
      ],
      "metadata": {
        "id": "x46vHUVYgRR7"
      }
    },
    {
      "cell_type": "code",
      "source": [
        "def extract():\n",
        "    extracted_data = pd.DataFrame(columns=['name','height','weight'])           # Çıkarılacak verilerimizi tutacağımız sütunları \"name\", \"height\" ve \"weight\" isimleriyle boş bir pandas DataFrame nesnesi oluşturulur\n",
        "\n",
        "    #tüm csv dosyalarımızı işleyelim\n",
        "    for csvfile in glob.glob(\"*.csv\"):                                          # glob modülü kullanılarak tüm CSV dosyalarının isimlerini içeren bir döngü başlatılır.\n",
        "        extracted_data = extracted_data.append(extract_from_csv(csvfile),       # \"extract_from_csv\" fonksiyonu kullanılarak her CSV dosyasındaki veriler çıkarılır ve bu veriler \"extracted_data\" DataFrame'ine eklenir.\n",
        "                                               ignore_index=True)\n",
        "\n",
        "    #tüm json dosyalarımızı işleyelim\n",
        "    for jsonfile in glob.glob(\"*.json\"):                                        # glob modülü kullanılarak tüm JSON dosyalarının isimlerini içeren bir döngü başlatılır.\n",
        "        extracted_data = extracted_data.append(extract_from_json(jsonfile),     # \"extract_from_json\" fonksiyonu kullanılarak her JSON dosyasındaki veriler çıkarılır ve bu veriler \"extracted_data\" DataFrame'ine eklenir.\n",
        "                                               ignore_index=True)\n",
        "\n",
        "    #tüm xml dosyalarımızı işleyelim\n",
        "    for xmlfile in glob.glob(\"*.xml\"):                                          # glob modülü kullanılarak tüm XML dosyalarının isimlerini içeren bir döngü başlatılır.\n",
        "        extracted_data = extracted_data.append(extract_from_xml(xmlfile),       # \"extract_from_xml\" fonksiyonu kullanılarak her XML dosyasındaki veriler çıkarılır ve bu veriler \"extracted_data\" DataFrame'ine eklenir.\n",
        "                                               ignore_index=True)\n",
        "\n",
        "    return extracted_data                                                       # Oluşturulan DataFrame nesnesini fonksiyonun çağrıldığı yere döndürür"
      ],
      "metadata": {
        "id": "35p9-qNrHoVj"
      },
      "execution_count": null,
      "outputs": []
    },
    {
      "cell_type": "markdown",
      "source": [
        "Bu işlev, aynı klasörde bulunan farklı formatlardaki veri dosyalarını tek bir DataFrame'de birleştirmek için kullanılabilir ve verilerin daha kolay analiz edilmesini ve işlenmesini sağlayabilir."
      ],
      "metadata": {
        "id": "wS8VuQNzOqsr"
      }
    },
    {
      "cell_type": "markdown",
      "source": [
        "# Transform (Dönüştürme)"
      ],
      "metadata": {
        "id": "xixZwNqgKpBx"
      }
    },
    {
      "cell_type": "markdown",
      "source": [
        "Dönüştürme işlemi iki aşama içermektedir;\n",
        "\n",
        "  *   inches olarak alınan height verileri metre'ye\n",
        "  *   pounds olarak alınan weight verileri kilograma dönüştürülecektir.\n",
        "\n"
      ],
      "metadata": {
        "id": "5_o4I2ljOyog"
      }
    },
    {
      "cell_type": "code",
      "source": [
        "def transform(data):\n",
        "        data['height'] = round(data.height * 0.0254,2)                          # \"height\" sütunundaki verileri dönüştürülerek DataFrame'de güncellenir.\n",
        "        data['weight'] = round(data.weight * 0.45359237,2)                      # \"weight\" sütunundaki verileri dönüştürülerek DataFrame'de güncellenir.\n",
        "        return data                                                             # Dönüştürülmüş DataFrame'i fonksiyonun çağrıldığı yere döndürür.\n"
      ],
      "metadata": {
        "id": "OUnwUAGtOum4"
      },
      "execution_count": null,
      "outputs": []
    },
    {
      "cell_type": "markdown",
      "source": [
        "# Loading (Yükleme)"
      ],
      "metadata": {
        "id": "o737Hg0qPnUe"
      }
    },
    {
      "cell_type": "markdown",
      "source": [
        "Yazacağımız load fonksiyonu, verileri bir pandas DataFrame nesnesinden CSV dosyasına kaydetmek için kullanılır."
      ],
      "metadata": {
        "id": "PX1VlNhoPyvJ"
      }
    },
    {
      "cell_type": "code",
      "source": [
        "def load(targetfile,data_to_load):                                              #\" targetfile\" parametresi dosya adı/yolunu alırken \"data_to_load\" parametresi ise pandas DataFrame nesnesini alır\n",
        "    data_to_load.to_csv(targetfile)                                             # \"data_to_load\" DataFrame nesnesindeki veriler, \"targetfile\" adında belirtilen CSV dosyasına kaydedilir.\n",
        "                                                                                  # to_csv fonksiyonu, DataFrame'deki verileri CSV formatında bir dosyaya yazmak için kullanılır."
      ],
      "metadata": {
        "id": "Z2Px6MaNPrYX"
      },
      "execution_count": null,
      "outputs": []
    },
    {
      "cell_type": "markdown",
      "source": [
        "# Logging"
      ],
      "metadata": {
        "id": "OT17QlkCQm0_"
      }
    },
    {
      "cell_type": "markdown",
      "source": [
        "Logging, bilgisayar programlarında çalışma süreci boyunca oluşan olayları ve bilgileri kaydetme işlemidir. Bu olaylar ve bilgiler, programın çalışması sırasında hataları, uyarıları, hata ayıklama bilgilerini ve diğer önemli bilgileri içerebilir. Loglar, programın nasıl çalıştığını ve hangi durumlarla karşılaşıldığını anlamak için kullanılır ve genellikle hata ayıklama ve sorun giderme süreçlerinde büyük öneme sahiptir."
      ],
      "metadata": {
        "id": "HuPXgiGeQvCF"
      }
    },
    {
      "cell_type": "markdown",
      "source": [
        "Bu Python fonksiyonu, gelen mesajı ve mevcut zaman bilgisini alarak bir log dosyasına yazan bir işlevdir. Log dosyası, her log kaydının tarih-saat bilgisi ile mesajın kaydedildiği bir metin dosyasıdır."
      ],
      "metadata": {
        "id": "DUBzK-eYSk-n"
      }
    },
    {
      "cell_type": "code",
      "source": [
        "def log(message):                                                               # \"message\" adında bir parametre Log dosyasına yazılacak olan mesajı alır\n",
        "    timestamp_format = '%Y-%h-%d-%H:%M:%S'                                      # Log dosyasına yazılacak zaman bilgisinin formatı belirtilir. %Y yılın dört haneli formatını, %h ayın kısaltılmış adını, %d günü, %H saati, %M dakikayı ve %S saniyeyi temsil eder\n",
        "    now = datetime.now()                                                        # \"datetime\" modülündeki now fonksiyonu kullanılarak mevcut zaman bilgisi alınır. datetime.now() fonksiyonu, sistem saatine göre mevcut tarih ve saati döndürür.\n",
        "    timestamp = now.strftime(timestamp_format)                                  # Mevcut zaman bilgisi belirtilen timestamp_format formatına göre biçimlendirilir ve timestamp adlı bir değişkene atanır.\n",
        "    with open(\"logfile.txt\",\"a\") as f:                                          # \"logfile.txt\" adlı bir metin dosyası açılır.\n",
        "                                                                                  # Dosya, loglar için kullanılacak olan dosyadır. open fonksiyonu, dosyayı açmak ve işlem yapmak için kullanılır. \"a\" modu, dosyanın ekleme (append) modunda açılmasını sağlar.\n",
        "                                                                                  # Yani, dosyaya yazma işlemi, dosyanın sonuna eklenerek yapılır ve mevcut içeriği korunur.\n",
        "        f.write(timestamp + ',' + message + '\\n')                               # Log mesajı ve zaman bilgisi log dosyasına yazılır. write fonksiyonu, verilen veriyi dosyaya yazmak için kullanılır."
      ],
      "metadata": {
        "id": "M4suJKLMQ5s0"
      },
      "execution_count": null,
      "outputs": []
    },
    {
      "cell_type": "markdown",
      "source": [
        "*Dipnot ▶* \"with open\" bloğu kullanıldığında, dosya otomatik olarak kapanır, böylece açık dosya yönetimiyle ilgili sorunlar önlenir."
      ],
      "metadata": {
        "id": "YCOPKZAWTmKn"
      }
    },
    {
      "cell_type": "markdown",
      "source": [
        "# ETL Sürecini Çalıştırma"
      ],
      "metadata": {
        "id": "ibgqavDVTxVQ"
      }
    },
    {
      "cell_type": "markdown",
      "source": [
        "ETL sürecimiz başlıyor.."
      ],
      "metadata": {
        "id": "eKaf3_NkT7pN"
      }
    },
    {
      "cell_type": "code",
      "source": [
        "log(\"ETL Job Started\")"
      ],
      "metadata": {
        "id": "TfVmLQhBTw5N"
      },
      "execution_count": null,
      "outputs": []
    },
    {
      "cell_type": "markdown",
      "source": [
        "Extract sürecimiz işleniyor.."
      ],
      "metadata": {
        "id": "LzTo_8LeUg9U"
      }
    },
    {
      "cell_type": "code",
      "source": [
        "log(\"Extract phase Started\")\n",
        "extracted_data = extract()\n",
        "log(\"Extract phase Ended\")\n",
        "extracted_data"
      ],
      "metadata": {
        "colab": {
          "base_uri": "https://localhost:8080/",
          "height": 1000
        },
        "id": "pNChx1vdT2Ru",
        "outputId": "8cc31d52-ddb6-4f10-d6bf-75dc58587290"
      },
      "execution_count": null,
      "outputs": [
        {
          "output_type": "stream",
          "name": "stderr",
          "text": [
            "<ipython-input-16-94baf92c0018>:6: FutureWarning: The frame.append method is deprecated and will be removed from pandas in a future version. Use pandas.concat instead.\n",
            "  extracted_data = extracted_data.append(extract_from_csv(csvfile),       # \"extract_from_csv\" fonksiyonu kullanılarak her CSV dosyasındaki veriler çıkarılır ve bu veriler \"extracted_data\" DataFrame'ine eklenir.\n",
            "<ipython-input-16-94baf92c0018>:6: FutureWarning: The frame.append method is deprecated and will be removed from pandas in a future version. Use pandas.concat instead.\n",
            "  extracted_data = extracted_data.append(extract_from_csv(csvfile),       # \"extract_from_csv\" fonksiyonu kullanılarak her CSV dosyasındaki veriler çıkarılır ve bu veriler \"extracted_data\" DataFrame'ine eklenir.\n",
            "<ipython-input-16-94baf92c0018>:6: FutureWarning: The frame.append method is deprecated and will be removed from pandas in a future version. Use pandas.concat instead.\n",
            "  extracted_data = extracted_data.append(extract_from_csv(csvfile),       # \"extract_from_csv\" fonksiyonu kullanılarak her CSV dosyasındaki veriler çıkarılır ve bu veriler \"extracted_data\" DataFrame'ine eklenir.\n",
            "<ipython-input-16-94baf92c0018>:11: FutureWarning: The frame.append method is deprecated and will be removed from pandas in a future version. Use pandas.concat instead.\n",
            "  extracted_data = extracted_data.append(extract_from_json(jsonfile),     # \"extract_from_json\" fonksiyonu kullanılarak her JSON dosyasındaki veriler çıkarılır ve bu veriler \"extracted_data\" DataFrame'ine eklenir.\n",
            "<ipython-input-16-94baf92c0018>:11: FutureWarning: The frame.append method is deprecated and will be removed from pandas in a future version. Use pandas.concat instead.\n",
            "  extracted_data = extracted_data.append(extract_from_json(jsonfile),     # \"extract_from_json\" fonksiyonu kullanılarak her JSON dosyasındaki veriler çıkarılır ve bu veriler \"extracted_data\" DataFrame'ine eklenir.\n",
            "<ipython-input-16-94baf92c0018>:11: FutureWarning: The frame.append method is deprecated and will be removed from pandas in a future version. Use pandas.concat instead.\n",
            "  extracted_data = extracted_data.append(extract_from_json(jsonfile),     # \"extract_from_json\" fonksiyonu kullanılarak her JSON dosyasındaki veriler çıkarılır ve bu veriler \"extracted_data\" DataFrame'ine eklenir.\n",
            "<ipython-input-15-f8f96fa167a6>:11: FutureWarning: The frame.append method is deprecated and will be removed from pandas in a future version. Use pandas.concat instead.\n",
            "  dataframe = dataframe.append({\"name\":name, \"height\":height,             # Her \"person\" düğümünden alınan \"name\", \"height\" ve \"weight\" değerleri bir satır olarak pandas DataFrame'e eklenir. append fonksiyonu, DataFrame'e yeni bir satır eklemek için kullanılır.\n",
            "<ipython-input-15-f8f96fa167a6>:11: FutureWarning: The frame.append method is deprecated and will be removed from pandas in a future version. Use pandas.concat instead.\n",
            "  dataframe = dataframe.append({\"name\":name, \"height\":height,             # Her \"person\" düğümünden alınan \"name\", \"height\" ve \"weight\" değerleri bir satır olarak pandas DataFrame'e eklenir. append fonksiyonu, DataFrame'e yeni bir satır eklemek için kullanılır.\n",
            "<ipython-input-15-f8f96fa167a6>:11: FutureWarning: The frame.append method is deprecated and will be removed from pandas in a future version. Use pandas.concat instead.\n",
            "  dataframe = dataframe.append({\"name\":name, \"height\":height,             # Her \"person\" düğümünden alınan \"name\", \"height\" ve \"weight\" değerleri bir satır olarak pandas DataFrame'e eklenir. append fonksiyonu, DataFrame'e yeni bir satır eklemek için kullanılır.\n",
            "<ipython-input-15-f8f96fa167a6>:11: FutureWarning: The frame.append method is deprecated and will be removed from pandas in a future version. Use pandas.concat instead.\n",
            "  dataframe = dataframe.append({\"name\":name, \"height\":height,             # Her \"person\" düğümünden alınan \"name\", \"height\" ve \"weight\" değerleri bir satır olarak pandas DataFrame'e eklenir. append fonksiyonu, DataFrame'e yeni bir satır eklemek için kullanılır.\n",
            "<ipython-input-16-94baf92c0018>:16: FutureWarning: The frame.append method is deprecated and will be removed from pandas in a future version. Use pandas.concat instead.\n",
            "  extracted_data = extracted_data.append(extract_from_xml(xmlfile),       # \"extract_from_xml\" fonksiyonu kullanılarak her XML dosyasındaki veriler çıkarılır ve bu veriler \"extracted_data\" DataFrame'ine eklenir.\n",
            "<ipython-input-15-f8f96fa167a6>:11: FutureWarning: The frame.append method is deprecated and will be removed from pandas in a future version. Use pandas.concat instead.\n",
            "  dataframe = dataframe.append({\"name\":name, \"height\":height,             # Her \"person\" düğümünden alınan \"name\", \"height\" ve \"weight\" değerleri bir satır olarak pandas DataFrame'e eklenir. append fonksiyonu, DataFrame'e yeni bir satır eklemek için kullanılır.\n",
            "<ipython-input-15-f8f96fa167a6>:11: FutureWarning: The frame.append method is deprecated and will be removed from pandas in a future version. Use pandas.concat instead.\n",
            "  dataframe = dataframe.append({\"name\":name, \"height\":height,             # Her \"person\" düğümünden alınan \"name\", \"height\" ve \"weight\" değerleri bir satır olarak pandas DataFrame'e eklenir. append fonksiyonu, DataFrame'e yeni bir satır eklemek için kullanılır.\n",
            "<ipython-input-15-f8f96fa167a6>:11: FutureWarning: The frame.append method is deprecated and will be removed from pandas in a future version. Use pandas.concat instead.\n",
            "  dataframe = dataframe.append({\"name\":name, \"height\":height,             # Her \"person\" düğümünden alınan \"name\", \"height\" ve \"weight\" değerleri bir satır olarak pandas DataFrame'e eklenir. append fonksiyonu, DataFrame'e yeni bir satır eklemek için kullanılır.\n",
            "<ipython-input-15-f8f96fa167a6>:11: FutureWarning: The frame.append method is deprecated and will be removed from pandas in a future version. Use pandas.concat instead.\n",
            "  dataframe = dataframe.append({\"name\":name, \"height\":height,             # Her \"person\" düğümünden alınan \"name\", \"height\" ve \"weight\" değerleri bir satır olarak pandas DataFrame'e eklenir. append fonksiyonu, DataFrame'e yeni bir satır eklemek için kullanılır.\n",
            "<ipython-input-16-94baf92c0018>:16: FutureWarning: The frame.append method is deprecated and will be removed from pandas in a future version. Use pandas.concat instead.\n",
            "  extracted_data = extracted_data.append(extract_from_xml(xmlfile),       # \"extract_from_xml\" fonksiyonu kullanılarak her XML dosyasındaki veriler çıkarılır ve bu veriler \"extracted_data\" DataFrame'ine eklenir.\n",
            "<ipython-input-15-f8f96fa167a6>:11: FutureWarning: The frame.append method is deprecated and will be removed from pandas in a future version. Use pandas.concat instead.\n",
            "  dataframe = dataframe.append({\"name\":name, \"height\":height,             # Her \"person\" düğümünden alınan \"name\", \"height\" ve \"weight\" değerleri bir satır olarak pandas DataFrame'e eklenir. append fonksiyonu, DataFrame'e yeni bir satır eklemek için kullanılır.\n",
            "<ipython-input-15-f8f96fa167a6>:11: FutureWarning: The frame.append method is deprecated and will be removed from pandas in a future version. Use pandas.concat instead.\n",
            "  dataframe = dataframe.append({\"name\":name, \"height\":height,             # Her \"person\" düğümünden alınan \"name\", \"height\" ve \"weight\" değerleri bir satır olarak pandas DataFrame'e eklenir. append fonksiyonu, DataFrame'e yeni bir satır eklemek için kullanılır.\n",
            "<ipython-input-15-f8f96fa167a6>:11: FutureWarning: The frame.append method is deprecated and will be removed from pandas in a future version. Use pandas.concat instead.\n",
            "  dataframe = dataframe.append({\"name\":name, \"height\":height,             # Her \"person\" düğümünden alınan \"name\", \"height\" ve \"weight\" değerleri bir satır olarak pandas DataFrame'e eklenir. append fonksiyonu, DataFrame'e yeni bir satır eklemek için kullanılır.\n",
            "<ipython-input-15-f8f96fa167a6>:11: FutureWarning: The frame.append method is deprecated and will be removed from pandas in a future version. Use pandas.concat instead.\n",
            "  dataframe = dataframe.append({\"name\":name, \"height\":height,             # Her \"person\" düğümünden alınan \"name\", \"height\" ve \"weight\" değerleri bir satır olarak pandas DataFrame'e eklenir. append fonksiyonu, DataFrame'e yeni bir satır eklemek için kullanılır.\n",
            "<ipython-input-16-94baf92c0018>:16: FutureWarning: The frame.append method is deprecated and will be removed from pandas in a future version. Use pandas.concat instead.\n",
            "  extracted_data = extracted_data.append(extract_from_xml(xmlfile),       # \"extract_from_xml\" fonksiyonu kullanılarak her XML dosyasındaki veriler çıkarılır ve bu veriler \"extracted_data\" DataFrame'ine eklenir.\n"
          ]
        },
        {
          "output_type": "execute_result",
          "data": {
            "text/plain": [
              "     name  height  weight\n",
              "0    alex   65.78  112.99\n",
              "1    ajay   71.52  136.49\n",
              "2   alice   69.40  153.03\n",
              "3    ravi   68.22  142.34\n",
              "4     joe   67.79  144.30\n",
              "5    alex   65.78  112.99\n",
              "6    ajay   71.52  136.49\n",
              "7   alice   69.40  153.03\n",
              "8    ravi   68.22  142.34\n",
              "9     joe   67.79  144.30\n",
              "10   alex   65.78  112.99\n",
              "11   ajay   71.52  136.49\n",
              "12  alice   69.40  153.03\n",
              "13   ravi   68.22  142.34\n",
              "14    joe   67.79  144.30\n",
              "15   jack   68.70  123.30\n",
              "16    tom   69.80  141.49\n",
              "17  tracy   70.01  136.46\n",
              "18   john   67.90  112.37\n",
              "19   jack   68.70  123.30\n",
              "20    tom   69.80  141.49\n",
              "21  tracy   70.01  136.46\n",
              "22   john   67.90  112.37\n",
              "23   jack   68.70  123.30\n",
              "24    tom   69.80  141.49\n",
              "25  tracy   70.01  136.46\n",
              "26   john   67.90  112.37\n",
              "27  simon   67.90  112.37\n",
              "28  jacob   66.78  120.67\n",
              "29  cindy   66.49  127.45\n",
              "30   ivan   67.62  114.14\n",
              "31  simon   67.90  112.37\n",
              "32  jacob   66.78  120.67\n",
              "33  cindy   66.49  127.45\n",
              "34   ivan   67.62  114.14\n",
              "35  simon   67.90  112.37\n",
              "36  jacob   66.78  120.67\n",
              "37  cindy   66.49  127.45\n",
              "38   ivan   67.62  114.14"
            ],
            "text/html": [
              "\n",
              "\n",
              "  <div id=\"df-a3a1c979-0a4a-404a-81a5-63918ab8b3c7\">\n",
              "    <div class=\"colab-df-container\">\n",
              "      <div>\n",
              "<style scoped>\n",
              "    .dataframe tbody tr th:only-of-type {\n",
              "        vertical-align: middle;\n",
              "    }\n",
              "\n",
              "    .dataframe tbody tr th {\n",
              "        vertical-align: top;\n",
              "    }\n",
              "\n",
              "    .dataframe thead th {\n",
              "        text-align: right;\n",
              "    }\n",
              "</style>\n",
              "<table border=\"1\" class=\"dataframe\">\n",
              "  <thead>\n",
              "    <tr style=\"text-align: right;\">\n",
              "      <th></th>\n",
              "      <th>name</th>\n",
              "      <th>height</th>\n",
              "      <th>weight</th>\n",
              "    </tr>\n",
              "  </thead>\n",
              "  <tbody>\n",
              "    <tr>\n",
              "      <th>0</th>\n",
              "      <td>alex</td>\n",
              "      <td>65.78</td>\n",
              "      <td>112.99</td>\n",
              "    </tr>\n",
              "    <tr>\n",
              "      <th>1</th>\n",
              "      <td>ajay</td>\n",
              "      <td>71.52</td>\n",
              "      <td>136.49</td>\n",
              "    </tr>\n",
              "    <tr>\n",
              "      <th>2</th>\n",
              "      <td>alice</td>\n",
              "      <td>69.40</td>\n",
              "      <td>153.03</td>\n",
              "    </tr>\n",
              "    <tr>\n",
              "      <th>3</th>\n",
              "      <td>ravi</td>\n",
              "      <td>68.22</td>\n",
              "      <td>142.34</td>\n",
              "    </tr>\n",
              "    <tr>\n",
              "      <th>4</th>\n",
              "      <td>joe</td>\n",
              "      <td>67.79</td>\n",
              "      <td>144.30</td>\n",
              "    </tr>\n",
              "    <tr>\n",
              "      <th>5</th>\n",
              "      <td>alex</td>\n",
              "      <td>65.78</td>\n",
              "      <td>112.99</td>\n",
              "    </tr>\n",
              "    <tr>\n",
              "      <th>6</th>\n",
              "      <td>ajay</td>\n",
              "      <td>71.52</td>\n",
              "      <td>136.49</td>\n",
              "    </tr>\n",
              "    <tr>\n",
              "      <th>7</th>\n",
              "      <td>alice</td>\n",
              "      <td>69.40</td>\n",
              "      <td>153.03</td>\n",
              "    </tr>\n",
              "    <tr>\n",
              "      <th>8</th>\n",
              "      <td>ravi</td>\n",
              "      <td>68.22</td>\n",
              "      <td>142.34</td>\n",
              "    </tr>\n",
              "    <tr>\n",
              "      <th>9</th>\n",
              "      <td>joe</td>\n",
              "      <td>67.79</td>\n",
              "      <td>144.30</td>\n",
              "    </tr>\n",
              "    <tr>\n",
              "      <th>10</th>\n",
              "      <td>alex</td>\n",
              "      <td>65.78</td>\n",
              "      <td>112.99</td>\n",
              "    </tr>\n",
              "    <tr>\n",
              "      <th>11</th>\n",
              "      <td>ajay</td>\n",
              "      <td>71.52</td>\n",
              "      <td>136.49</td>\n",
              "    </tr>\n",
              "    <tr>\n",
              "      <th>12</th>\n",
              "      <td>alice</td>\n",
              "      <td>69.40</td>\n",
              "      <td>153.03</td>\n",
              "    </tr>\n",
              "    <tr>\n",
              "      <th>13</th>\n",
              "      <td>ravi</td>\n",
              "      <td>68.22</td>\n",
              "      <td>142.34</td>\n",
              "    </tr>\n",
              "    <tr>\n",
              "      <th>14</th>\n",
              "      <td>joe</td>\n",
              "      <td>67.79</td>\n",
              "      <td>144.30</td>\n",
              "    </tr>\n",
              "    <tr>\n",
              "      <th>15</th>\n",
              "      <td>jack</td>\n",
              "      <td>68.70</td>\n",
              "      <td>123.30</td>\n",
              "    </tr>\n",
              "    <tr>\n",
              "      <th>16</th>\n",
              "      <td>tom</td>\n",
              "      <td>69.80</td>\n",
              "      <td>141.49</td>\n",
              "    </tr>\n",
              "    <tr>\n",
              "      <th>17</th>\n",
              "      <td>tracy</td>\n",
              "      <td>70.01</td>\n",
              "      <td>136.46</td>\n",
              "    </tr>\n",
              "    <tr>\n",
              "      <th>18</th>\n",
              "      <td>john</td>\n",
              "      <td>67.90</td>\n",
              "      <td>112.37</td>\n",
              "    </tr>\n",
              "    <tr>\n",
              "      <th>19</th>\n",
              "      <td>jack</td>\n",
              "      <td>68.70</td>\n",
              "      <td>123.30</td>\n",
              "    </tr>\n",
              "    <tr>\n",
              "      <th>20</th>\n",
              "      <td>tom</td>\n",
              "      <td>69.80</td>\n",
              "      <td>141.49</td>\n",
              "    </tr>\n",
              "    <tr>\n",
              "      <th>21</th>\n",
              "      <td>tracy</td>\n",
              "      <td>70.01</td>\n",
              "      <td>136.46</td>\n",
              "    </tr>\n",
              "    <tr>\n",
              "      <th>22</th>\n",
              "      <td>john</td>\n",
              "      <td>67.90</td>\n",
              "      <td>112.37</td>\n",
              "    </tr>\n",
              "    <tr>\n",
              "      <th>23</th>\n",
              "      <td>jack</td>\n",
              "      <td>68.70</td>\n",
              "      <td>123.30</td>\n",
              "    </tr>\n",
              "    <tr>\n",
              "      <th>24</th>\n",
              "      <td>tom</td>\n",
              "      <td>69.80</td>\n",
              "      <td>141.49</td>\n",
              "    </tr>\n",
              "    <tr>\n",
              "      <th>25</th>\n",
              "      <td>tracy</td>\n",
              "      <td>70.01</td>\n",
              "      <td>136.46</td>\n",
              "    </tr>\n",
              "    <tr>\n",
              "      <th>26</th>\n",
              "      <td>john</td>\n",
              "      <td>67.90</td>\n",
              "      <td>112.37</td>\n",
              "    </tr>\n",
              "    <tr>\n",
              "      <th>27</th>\n",
              "      <td>simon</td>\n",
              "      <td>67.90</td>\n",
              "      <td>112.37</td>\n",
              "    </tr>\n",
              "    <tr>\n",
              "      <th>28</th>\n",
              "      <td>jacob</td>\n",
              "      <td>66.78</td>\n",
              "      <td>120.67</td>\n",
              "    </tr>\n",
              "    <tr>\n",
              "      <th>29</th>\n",
              "      <td>cindy</td>\n",
              "      <td>66.49</td>\n",
              "      <td>127.45</td>\n",
              "    </tr>\n",
              "    <tr>\n",
              "      <th>30</th>\n",
              "      <td>ivan</td>\n",
              "      <td>67.62</td>\n",
              "      <td>114.14</td>\n",
              "    </tr>\n",
              "    <tr>\n",
              "      <th>31</th>\n",
              "      <td>simon</td>\n",
              "      <td>67.90</td>\n",
              "      <td>112.37</td>\n",
              "    </tr>\n",
              "    <tr>\n",
              "      <th>32</th>\n",
              "      <td>jacob</td>\n",
              "      <td>66.78</td>\n",
              "      <td>120.67</td>\n",
              "    </tr>\n",
              "    <tr>\n",
              "      <th>33</th>\n",
              "      <td>cindy</td>\n",
              "      <td>66.49</td>\n",
              "      <td>127.45</td>\n",
              "    </tr>\n",
              "    <tr>\n",
              "      <th>34</th>\n",
              "      <td>ivan</td>\n",
              "      <td>67.62</td>\n",
              "      <td>114.14</td>\n",
              "    </tr>\n",
              "    <tr>\n",
              "      <th>35</th>\n",
              "      <td>simon</td>\n",
              "      <td>67.90</td>\n",
              "      <td>112.37</td>\n",
              "    </tr>\n",
              "    <tr>\n",
              "      <th>36</th>\n",
              "      <td>jacob</td>\n",
              "      <td>66.78</td>\n",
              "      <td>120.67</td>\n",
              "    </tr>\n",
              "    <tr>\n",
              "      <th>37</th>\n",
              "      <td>cindy</td>\n",
              "      <td>66.49</td>\n",
              "      <td>127.45</td>\n",
              "    </tr>\n",
              "    <tr>\n",
              "      <th>38</th>\n",
              "      <td>ivan</td>\n",
              "      <td>67.62</td>\n",
              "      <td>114.14</td>\n",
              "    </tr>\n",
              "  </tbody>\n",
              "</table>\n",
              "</div>\n",
              "      <button class=\"colab-df-convert\" onclick=\"convertToInteractive('df-a3a1c979-0a4a-404a-81a5-63918ab8b3c7')\"\n",
              "              title=\"Convert this dataframe to an interactive table.\"\n",
              "              style=\"display:none;\">\n",
              "\n",
              "  <svg xmlns=\"http://www.w3.org/2000/svg\" height=\"24px\"viewBox=\"0 0 24 24\"\n",
              "       width=\"24px\">\n",
              "    <path d=\"M0 0h24v24H0V0z\" fill=\"none\"/>\n",
              "    <path d=\"M18.56 5.44l.94 2.06.94-2.06 2.06-.94-2.06-.94-.94-2.06-.94 2.06-2.06.94zm-11 1L8.5 8.5l.94-2.06 2.06-.94-2.06-.94L8.5 2.5l-.94 2.06-2.06.94zm10 10l.94 2.06.94-2.06 2.06-.94-2.06-.94-.94-2.06-.94 2.06-2.06.94z\"/><path d=\"M17.41 7.96l-1.37-1.37c-.4-.4-.92-.59-1.43-.59-.52 0-1.04.2-1.43.59L10.3 9.45l-7.72 7.72c-.78.78-.78 2.05 0 2.83L4 21.41c.39.39.9.59 1.41.59.51 0 1.02-.2 1.41-.59l7.78-7.78 2.81-2.81c.8-.78.8-2.07 0-2.86zM5.41 20L4 18.59l7.72-7.72 1.47 1.35L5.41 20z\"/>\n",
              "  </svg>\n",
              "      </button>\n",
              "\n",
              "\n",
              "\n",
              "    <div id=\"df-20cf6178-dbea-4a45-b282-8d3a064630d2\">\n",
              "      <button class=\"colab-df-quickchart\" onclick=\"quickchart('df-20cf6178-dbea-4a45-b282-8d3a064630d2')\"\n",
              "              title=\"Suggest charts.\"\n",
              "              style=\"display:none;\">\n",
              "\n",
              "<svg xmlns=\"http://www.w3.org/2000/svg\" height=\"24px\"viewBox=\"0 0 24 24\"\n",
              "     width=\"24px\">\n",
              "    <g>\n",
              "        <path d=\"M19 3H5c-1.1 0-2 .9-2 2v14c0 1.1.9 2 2 2h14c1.1 0 2-.9 2-2V5c0-1.1-.9-2-2-2zM9 17H7v-7h2v7zm4 0h-2V7h2v10zm4 0h-2v-4h2v4z\"/>\n",
              "    </g>\n",
              "</svg>\n",
              "      </button>\n",
              "    </div>\n",
              "\n",
              "<style>\n",
              "  .colab-df-quickchart {\n",
              "    background-color: #E8F0FE;\n",
              "    border: none;\n",
              "    border-radius: 50%;\n",
              "    cursor: pointer;\n",
              "    display: none;\n",
              "    fill: #1967D2;\n",
              "    height: 32px;\n",
              "    padding: 0 0 0 0;\n",
              "    width: 32px;\n",
              "  }\n",
              "\n",
              "  .colab-df-quickchart:hover {\n",
              "    background-color: #E2EBFA;\n",
              "    box-shadow: 0px 1px 2px rgba(60, 64, 67, 0.3), 0px 1px 3px 1px rgba(60, 64, 67, 0.15);\n",
              "    fill: #174EA6;\n",
              "  }\n",
              "\n",
              "  [theme=dark] .colab-df-quickchart {\n",
              "    background-color: #3B4455;\n",
              "    fill: #D2E3FC;\n",
              "  }\n",
              "\n",
              "  [theme=dark] .colab-df-quickchart:hover {\n",
              "    background-color: #434B5C;\n",
              "    box-shadow: 0px 1px 3px 1px rgba(0, 0, 0, 0.15);\n",
              "    filter: drop-shadow(0px 1px 2px rgba(0, 0, 0, 0.3));\n",
              "    fill: #FFFFFF;\n",
              "  }\n",
              "</style>\n",
              "\n",
              "    <script>\n",
              "      async function quickchart(key) {\n",
              "        const containerElement = document.querySelector('#' + key);\n",
              "        const charts = await google.colab.kernel.invokeFunction(\n",
              "            'suggestCharts', [key], {});\n",
              "      }\n",
              "    </script>\n",
              "\n",
              "      <script>\n",
              "\n",
              "function displayQuickchartButton(domScope) {\n",
              "  let quickchartButtonEl =\n",
              "    domScope.querySelector('#df-20cf6178-dbea-4a45-b282-8d3a064630d2 button.colab-df-quickchart');\n",
              "  quickchartButtonEl.style.display =\n",
              "    google.colab.kernel.accessAllowed ? 'block' : 'none';\n",
              "}\n",
              "\n",
              "        displayQuickchartButton(document);\n",
              "      </script>\n",
              "      <style>\n",
              "    .colab-df-container {\n",
              "      display:flex;\n",
              "      flex-wrap:wrap;\n",
              "      gap: 12px;\n",
              "    }\n",
              "\n",
              "    .colab-df-convert {\n",
              "      background-color: #E8F0FE;\n",
              "      border: none;\n",
              "      border-radius: 50%;\n",
              "      cursor: pointer;\n",
              "      display: none;\n",
              "      fill: #1967D2;\n",
              "      height: 32px;\n",
              "      padding: 0 0 0 0;\n",
              "      width: 32px;\n",
              "    }\n",
              "\n",
              "    .colab-df-convert:hover {\n",
              "      background-color: #E2EBFA;\n",
              "      box-shadow: 0px 1px 2px rgba(60, 64, 67, 0.3), 0px 1px 3px 1px rgba(60, 64, 67, 0.15);\n",
              "      fill: #174EA6;\n",
              "    }\n",
              "\n",
              "    [theme=dark] .colab-df-convert {\n",
              "      background-color: #3B4455;\n",
              "      fill: #D2E3FC;\n",
              "    }\n",
              "\n",
              "    [theme=dark] .colab-df-convert:hover {\n",
              "      background-color: #434B5C;\n",
              "      box-shadow: 0px 1px 3px 1px rgba(0, 0, 0, 0.15);\n",
              "      filter: drop-shadow(0px 1px 2px rgba(0, 0, 0, 0.3));\n",
              "      fill: #FFFFFF;\n",
              "    }\n",
              "  </style>\n",
              "\n",
              "      <script>\n",
              "        const buttonEl =\n",
              "          document.querySelector('#df-a3a1c979-0a4a-404a-81a5-63918ab8b3c7 button.colab-df-convert');\n",
              "        buttonEl.style.display =\n",
              "          google.colab.kernel.accessAllowed ? 'block' : 'none';\n",
              "\n",
              "        async function convertToInteractive(key) {\n",
              "          const element = document.querySelector('#df-a3a1c979-0a4a-404a-81a5-63918ab8b3c7');\n",
              "          const dataTable =\n",
              "            await google.colab.kernel.invokeFunction('convertToInteractive',\n",
              "                                                     [key], {});\n",
              "          if (!dataTable) return;\n",
              "\n",
              "          const docLinkHtml = 'Like what you see? Visit the ' +\n",
              "            '<a target=\"_blank\" href=https://colab.research.google.com/notebooks/data_table.ipynb>data table notebook</a>'\n",
              "            + ' to learn more about interactive tables.';\n",
              "          element.innerHTML = '';\n",
              "          dataTable['output_type'] = 'display_data';\n",
              "          await google.colab.output.renderOutput(dataTable, element);\n",
              "          const docLink = document.createElement('div');\n",
              "          docLink.innerHTML = docLinkHtml;\n",
              "          element.appendChild(docLink);\n",
              "        }\n",
              "      </script>\n",
              "    </div>\n",
              "  </div>\n"
            ]
          },
          "metadata": {},
          "execution_count": 21
        }
      ]
    },
    {
      "cell_type": "markdown",
      "source": [
        "Transform sürecimiz işleniyor.."
      ],
      "metadata": {
        "id": "wTTTAhZsUn8X"
      }
    },
    {
      "cell_type": "code",
      "source": [
        "log(\"Transform phase Started\")\n",
        "transformed_data = transform(extracted_data)\n",
        "log(\"Transform phase Ended\")\n",
        "transformed_data"
      ],
      "metadata": {
        "colab": {
          "base_uri": "https://localhost:8080/",
          "height": 1000
        },
        "id": "XIFmDyV1T33y",
        "outputId": "6a856a4d-c548-437a-842d-c4cf3386d6ae"
      },
      "execution_count": null,
      "outputs": [
        {
          "output_type": "execute_result",
          "data": {
            "text/plain": [
              "     name  height  weight\n",
              "0    alex    1.67   51.25\n",
              "1    ajay    1.82   61.91\n",
              "2   alice    1.76   69.41\n",
              "3    ravi    1.73   64.56\n",
              "4     joe    1.72   65.45\n",
              "5    alex    1.67   51.25\n",
              "6    ajay    1.82   61.91\n",
              "7   alice    1.76   69.41\n",
              "8    ravi    1.73   64.56\n",
              "9     joe    1.72   65.45\n",
              "10   alex    1.67   51.25\n",
              "11   ajay    1.82   61.91\n",
              "12  alice    1.76   69.41\n",
              "13   ravi    1.73   64.56\n",
              "14    joe    1.72   65.45\n",
              "15   jack    1.74   55.93\n",
              "16    tom    1.77   64.18\n",
              "17  tracy    1.78   61.90\n",
              "18   john    1.72   50.97\n",
              "19   jack    1.74   55.93\n",
              "20    tom    1.77   64.18\n",
              "21  tracy    1.78   61.90\n",
              "22   john    1.72   50.97\n",
              "23   jack    1.74   55.93\n",
              "24    tom    1.77   64.18\n",
              "25  tracy    1.78   61.90\n",
              "26   john    1.72   50.97\n",
              "27  simon    1.72   50.97\n",
              "28  jacob    1.70   54.73\n",
              "29  cindy    1.69   57.81\n",
              "30   ivan    1.72   51.77\n",
              "31  simon    1.72   50.97\n",
              "32  jacob    1.70   54.73\n",
              "33  cindy    1.69   57.81\n",
              "34   ivan    1.72   51.77\n",
              "35  simon    1.72   50.97\n",
              "36  jacob    1.70   54.73\n",
              "37  cindy    1.69   57.81\n",
              "38   ivan    1.72   51.77"
            ],
            "text/html": [
              "\n",
              "\n",
              "  <div id=\"df-316acd68-4c65-4b9b-ad53-2f5db4ae0178\">\n",
              "    <div class=\"colab-df-container\">\n",
              "      <div>\n",
              "<style scoped>\n",
              "    .dataframe tbody tr th:only-of-type {\n",
              "        vertical-align: middle;\n",
              "    }\n",
              "\n",
              "    .dataframe tbody tr th {\n",
              "        vertical-align: top;\n",
              "    }\n",
              "\n",
              "    .dataframe thead th {\n",
              "        text-align: right;\n",
              "    }\n",
              "</style>\n",
              "<table border=\"1\" class=\"dataframe\">\n",
              "  <thead>\n",
              "    <tr style=\"text-align: right;\">\n",
              "      <th></th>\n",
              "      <th>name</th>\n",
              "      <th>height</th>\n",
              "      <th>weight</th>\n",
              "    </tr>\n",
              "  </thead>\n",
              "  <tbody>\n",
              "    <tr>\n",
              "      <th>0</th>\n",
              "      <td>alex</td>\n",
              "      <td>1.67</td>\n",
              "      <td>51.25</td>\n",
              "    </tr>\n",
              "    <tr>\n",
              "      <th>1</th>\n",
              "      <td>ajay</td>\n",
              "      <td>1.82</td>\n",
              "      <td>61.91</td>\n",
              "    </tr>\n",
              "    <tr>\n",
              "      <th>2</th>\n",
              "      <td>alice</td>\n",
              "      <td>1.76</td>\n",
              "      <td>69.41</td>\n",
              "    </tr>\n",
              "    <tr>\n",
              "      <th>3</th>\n",
              "      <td>ravi</td>\n",
              "      <td>1.73</td>\n",
              "      <td>64.56</td>\n",
              "    </tr>\n",
              "    <tr>\n",
              "      <th>4</th>\n",
              "      <td>joe</td>\n",
              "      <td>1.72</td>\n",
              "      <td>65.45</td>\n",
              "    </tr>\n",
              "    <tr>\n",
              "      <th>5</th>\n",
              "      <td>alex</td>\n",
              "      <td>1.67</td>\n",
              "      <td>51.25</td>\n",
              "    </tr>\n",
              "    <tr>\n",
              "      <th>6</th>\n",
              "      <td>ajay</td>\n",
              "      <td>1.82</td>\n",
              "      <td>61.91</td>\n",
              "    </tr>\n",
              "    <tr>\n",
              "      <th>7</th>\n",
              "      <td>alice</td>\n",
              "      <td>1.76</td>\n",
              "      <td>69.41</td>\n",
              "    </tr>\n",
              "    <tr>\n",
              "      <th>8</th>\n",
              "      <td>ravi</td>\n",
              "      <td>1.73</td>\n",
              "      <td>64.56</td>\n",
              "    </tr>\n",
              "    <tr>\n",
              "      <th>9</th>\n",
              "      <td>joe</td>\n",
              "      <td>1.72</td>\n",
              "      <td>65.45</td>\n",
              "    </tr>\n",
              "    <tr>\n",
              "      <th>10</th>\n",
              "      <td>alex</td>\n",
              "      <td>1.67</td>\n",
              "      <td>51.25</td>\n",
              "    </tr>\n",
              "    <tr>\n",
              "      <th>11</th>\n",
              "      <td>ajay</td>\n",
              "      <td>1.82</td>\n",
              "      <td>61.91</td>\n",
              "    </tr>\n",
              "    <tr>\n",
              "      <th>12</th>\n",
              "      <td>alice</td>\n",
              "      <td>1.76</td>\n",
              "      <td>69.41</td>\n",
              "    </tr>\n",
              "    <tr>\n",
              "      <th>13</th>\n",
              "      <td>ravi</td>\n",
              "      <td>1.73</td>\n",
              "      <td>64.56</td>\n",
              "    </tr>\n",
              "    <tr>\n",
              "      <th>14</th>\n",
              "      <td>joe</td>\n",
              "      <td>1.72</td>\n",
              "      <td>65.45</td>\n",
              "    </tr>\n",
              "    <tr>\n",
              "      <th>15</th>\n",
              "      <td>jack</td>\n",
              "      <td>1.74</td>\n",
              "      <td>55.93</td>\n",
              "    </tr>\n",
              "    <tr>\n",
              "      <th>16</th>\n",
              "      <td>tom</td>\n",
              "      <td>1.77</td>\n",
              "      <td>64.18</td>\n",
              "    </tr>\n",
              "    <tr>\n",
              "      <th>17</th>\n",
              "      <td>tracy</td>\n",
              "      <td>1.78</td>\n",
              "      <td>61.90</td>\n",
              "    </tr>\n",
              "    <tr>\n",
              "      <th>18</th>\n",
              "      <td>john</td>\n",
              "      <td>1.72</td>\n",
              "      <td>50.97</td>\n",
              "    </tr>\n",
              "    <tr>\n",
              "      <th>19</th>\n",
              "      <td>jack</td>\n",
              "      <td>1.74</td>\n",
              "      <td>55.93</td>\n",
              "    </tr>\n",
              "    <tr>\n",
              "      <th>20</th>\n",
              "      <td>tom</td>\n",
              "      <td>1.77</td>\n",
              "      <td>64.18</td>\n",
              "    </tr>\n",
              "    <tr>\n",
              "      <th>21</th>\n",
              "      <td>tracy</td>\n",
              "      <td>1.78</td>\n",
              "      <td>61.90</td>\n",
              "    </tr>\n",
              "    <tr>\n",
              "      <th>22</th>\n",
              "      <td>john</td>\n",
              "      <td>1.72</td>\n",
              "      <td>50.97</td>\n",
              "    </tr>\n",
              "    <tr>\n",
              "      <th>23</th>\n",
              "      <td>jack</td>\n",
              "      <td>1.74</td>\n",
              "      <td>55.93</td>\n",
              "    </tr>\n",
              "    <tr>\n",
              "      <th>24</th>\n",
              "      <td>tom</td>\n",
              "      <td>1.77</td>\n",
              "      <td>64.18</td>\n",
              "    </tr>\n",
              "    <tr>\n",
              "      <th>25</th>\n",
              "      <td>tracy</td>\n",
              "      <td>1.78</td>\n",
              "      <td>61.90</td>\n",
              "    </tr>\n",
              "    <tr>\n",
              "      <th>26</th>\n",
              "      <td>john</td>\n",
              "      <td>1.72</td>\n",
              "      <td>50.97</td>\n",
              "    </tr>\n",
              "    <tr>\n",
              "      <th>27</th>\n",
              "      <td>simon</td>\n",
              "      <td>1.72</td>\n",
              "      <td>50.97</td>\n",
              "    </tr>\n",
              "    <tr>\n",
              "      <th>28</th>\n",
              "      <td>jacob</td>\n",
              "      <td>1.70</td>\n",
              "      <td>54.73</td>\n",
              "    </tr>\n",
              "    <tr>\n",
              "      <th>29</th>\n",
              "      <td>cindy</td>\n",
              "      <td>1.69</td>\n",
              "      <td>57.81</td>\n",
              "    </tr>\n",
              "    <tr>\n",
              "      <th>30</th>\n",
              "      <td>ivan</td>\n",
              "      <td>1.72</td>\n",
              "      <td>51.77</td>\n",
              "    </tr>\n",
              "    <tr>\n",
              "      <th>31</th>\n",
              "      <td>simon</td>\n",
              "      <td>1.72</td>\n",
              "      <td>50.97</td>\n",
              "    </tr>\n",
              "    <tr>\n",
              "      <th>32</th>\n",
              "      <td>jacob</td>\n",
              "      <td>1.70</td>\n",
              "      <td>54.73</td>\n",
              "    </tr>\n",
              "    <tr>\n",
              "      <th>33</th>\n",
              "      <td>cindy</td>\n",
              "      <td>1.69</td>\n",
              "      <td>57.81</td>\n",
              "    </tr>\n",
              "    <tr>\n",
              "      <th>34</th>\n",
              "      <td>ivan</td>\n",
              "      <td>1.72</td>\n",
              "      <td>51.77</td>\n",
              "    </tr>\n",
              "    <tr>\n",
              "      <th>35</th>\n",
              "      <td>simon</td>\n",
              "      <td>1.72</td>\n",
              "      <td>50.97</td>\n",
              "    </tr>\n",
              "    <tr>\n",
              "      <th>36</th>\n",
              "      <td>jacob</td>\n",
              "      <td>1.70</td>\n",
              "      <td>54.73</td>\n",
              "    </tr>\n",
              "    <tr>\n",
              "      <th>37</th>\n",
              "      <td>cindy</td>\n",
              "      <td>1.69</td>\n",
              "      <td>57.81</td>\n",
              "    </tr>\n",
              "    <tr>\n",
              "      <th>38</th>\n",
              "      <td>ivan</td>\n",
              "      <td>1.72</td>\n",
              "      <td>51.77</td>\n",
              "    </tr>\n",
              "  </tbody>\n",
              "</table>\n",
              "</div>\n",
              "      <button class=\"colab-df-convert\" onclick=\"convertToInteractive('df-316acd68-4c65-4b9b-ad53-2f5db4ae0178')\"\n",
              "              title=\"Convert this dataframe to an interactive table.\"\n",
              "              style=\"display:none;\">\n",
              "\n",
              "  <svg xmlns=\"http://www.w3.org/2000/svg\" height=\"24px\"viewBox=\"0 0 24 24\"\n",
              "       width=\"24px\">\n",
              "    <path d=\"M0 0h24v24H0V0z\" fill=\"none\"/>\n",
              "    <path d=\"M18.56 5.44l.94 2.06.94-2.06 2.06-.94-2.06-.94-.94-2.06-.94 2.06-2.06.94zm-11 1L8.5 8.5l.94-2.06 2.06-.94-2.06-.94L8.5 2.5l-.94 2.06-2.06.94zm10 10l.94 2.06.94-2.06 2.06-.94-2.06-.94-.94-2.06-.94 2.06-2.06.94z\"/><path d=\"M17.41 7.96l-1.37-1.37c-.4-.4-.92-.59-1.43-.59-.52 0-1.04.2-1.43.59L10.3 9.45l-7.72 7.72c-.78.78-.78 2.05 0 2.83L4 21.41c.39.39.9.59 1.41.59.51 0 1.02-.2 1.41-.59l7.78-7.78 2.81-2.81c.8-.78.8-2.07 0-2.86zM5.41 20L4 18.59l7.72-7.72 1.47 1.35L5.41 20z\"/>\n",
              "  </svg>\n",
              "      </button>\n",
              "\n",
              "\n",
              "\n",
              "    <div id=\"df-37f59c73-3312-42df-8268-0d44403504b2\">\n",
              "      <button class=\"colab-df-quickchart\" onclick=\"quickchart('df-37f59c73-3312-42df-8268-0d44403504b2')\"\n",
              "              title=\"Suggest charts.\"\n",
              "              style=\"display:none;\">\n",
              "\n",
              "<svg xmlns=\"http://www.w3.org/2000/svg\" height=\"24px\"viewBox=\"0 0 24 24\"\n",
              "     width=\"24px\">\n",
              "    <g>\n",
              "        <path d=\"M19 3H5c-1.1 0-2 .9-2 2v14c0 1.1.9 2 2 2h14c1.1 0 2-.9 2-2V5c0-1.1-.9-2-2-2zM9 17H7v-7h2v7zm4 0h-2V7h2v10zm4 0h-2v-4h2v4z\"/>\n",
              "    </g>\n",
              "</svg>\n",
              "      </button>\n",
              "    </div>\n",
              "\n",
              "<style>\n",
              "  .colab-df-quickchart {\n",
              "    background-color: #E8F0FE;\n",
              "    border: none;\n",
              "    border-radius: 50%;\n",
              "    cursor: pointer;\n",
              "    display: none;\n",
              "    fill: #1967D2;\n",
              "    height: 32px;\n",
              "    padding: 0 0 0 0;\n",
              "    width: 32px;\n",
              "  }\n",
              "\n",
              "  .colab-df-quickchart:hover {\n",
              "    background-color: #E2EBFA;\n",
              "    box-shadow: 0px 1px 2px rgba(60, 64, 67, 0.3), 0px 1px 3px 1px rgba(60, 64, 67, 0.15);\n",
              "    fill: #174EA6;\n",
              "  }\n",
              "\n",
              "  [theme=dark] .colab-df-quickchart {\n",
              "    background-color: #3B4455;\n",
              "    fill: #D2E3FC;\n",
              "  }\n",
              "\n",
              "  [theme=dark] .colab-df-quickchart:hover {\n",
              "    background-color: #434B5C;\n",
              "    box-shadow: 0px 1px 3px 1px rgba(0, 0, 0, 0.15);\n",
              "    filter: drop-shadow(0px 1px 2px rgba(0, 0, 0, 0.3));\n",
              "    fill: #FFFFFF;\n",
              "  }\n",
              "</style>\n",
              "\n",
              "    <script>\n",
              "      async function quickchart(key) {\n",
              "        const containerElement = document.querySelector('#' + key);\n",
              "        const charts = await google.colab.kernel.invokeFunction(\n",
              "            'suggestCharts', [key], {});\n",
              "      }\n",
              "    </script>\n",
              "\n",
              "      <script>\n",
              "\n",
              "function displayQuickchartButton(domScope) {\n",
              "  let quickchartButtonEl =\n",
              "    domScope.querySelector('#df-37f59c73-3312-42df-8268-0d44403504b2 button.colab-df-quickchart');\n",
              "  quickchartButtonEl.style.display =\n",
              "    google.colab.kernel.accessAllowed ? 'block' : 'none';\n",
              "}\n",
              "\n",
              "        displayQuickchartButton(document);\n",
              "      </script>\n",
              "      <style>\n",
              "    .colab-df-container {\n",
              "      display:flex;\n",
              "      flex-wrap:wrap;\n",
              "      gap: 12px;\n",
              "    }\n",
              "\n",
              "    .colab-df-convert {\n",
              "      background-color: #E8F0FE;\n",
              "      border: none;\n",
              "      border-radius: 50%;\n",
              "      cursor: pointer;\n",
              "      display: none;\n",
              "      fill: #1967D2;\n",
              "      height: 32px;\n",
              "      padding: 0 0 0 0;\n",
              "      width: 32px;\n",
              "    }\n",
              "\n",
              "    .colab-df-convert:hover {\n",
              "      background-color: #E2EBFA;\n",
              "      box-shadow: 0px 1px 2px rgba(60, 64, 67, 0.3), 0px 1px 3px 1px rgba(60, 64, 67, 0.15);\n",
              "      fill: #174EA6;\n",
              "    }\n",
              "\n",
              "    [theme=dark] .colab-df-convert {\n",
              "      background-color: #3B4455;\n",
              "      fill: #D2E3FC;\n",
              "    }\n",
              "\n",
              "    [theme=dark] .colab-df-convert:hover {\n",
              "      background-color: #434B5C;\n",
              "      box-shadow: 0px 1px 3px 1px rgba(0, 0, 0, 0.15);\n",
              "      filter: drop-shadow(0px 1px 2px rgba(0, 0, 0, 0.3));\n",
              "      fill: #FFFFFF;\n",
              "    }\n",
              "  </style>\n",
              "\n",
              "      <script>\n",
              "        const buttonEl =\n",
              "          document.querySelector('#df-316acd68-4c65-4b9b-ad53-2f5db4ae0178 button.colab-df-convert');\n",
              "        buttonEl.style.display =\n",
              "          google.colab.kernel.accessAllowed ? 'block' : 'none';\n",
              "\n",
              "        async function convertToInteractive(key) {\n",
              "          const element = document.querySelector('#df-316acd68-4c65-4b9b-ad53-2f5db4ae0178');\n",
              "          const dataTable =\n",
              "            await google.colab.kernel.invokeFunction('convertToInteractive',\n",
              "                                                     [key], {});\n",
              "          if (!dataTable) return;\n",
              "\n",
              "          const docLinkHtml = 'Like what you see? Visit the ' +\n",
              "            '<a target=\"_blank\" href=https://colab.research.google.com/notebooks/data_table.ipynb>data table notebook</a>'\n",
              "            + ' to learn more about interactive tables.';\n",
              "          element.innerHTML = '';\n",
              "          dataTable['output_type'] = 'display_data';\n",
              "          await google.colab.output.renderOutput(dataTable, element);\n",
              "          const docLink = document.createElement('div');\n",
              "          docLink.innerHTML = docLinkHtml;\n",
              "          element.appendChild(docLink);\n",
              "        }\n",
              "      </script>\n",
              "    </div>\n",
              "  </div>\n"
            ]
          },
          "metadata": {},
          "execution_count": 22
        }
      ]
    },
    {
      "cell_type": "markdown",
      "source": [
        "Load sürecimiz işleniyor.."
      ],
      "metadata": {
        "id": "G2psvTgAUqlS"
      }
    },
    {
      "cell_type": "code",
      "source": [
        "log(\"Load phase Started\")\n",
        "load(targetfile,transformed_data)                                               # \"load\" fonksiyonu çağrılır ve \"targetfile\" adı verilen hedef CSV dosyasına \"transformed_data\" adı verilen bir DataFrame nesnesini yükler.\n",
        "                                                                                  #\"load\" fonksiyonu, verileri bir CSV dosyasına yazma işlemini gerçekleştirir.\n",
        "log(\"Load phase Ended\")"
      ],
      "metadata": {
        "id": "Hzg_AcziT44q"
      },
      "execution_count": null,
      "outputs": []
    },
    {
      "cell_type": "markdown",
      "source": [
        "ETL sürecimiz bitti."
      ],
      "metadata": {
        "id": "JpjN-bJhUrzz"
      }
    },
    {
      "cell_type": "code",
      "source": [
        "log(\"ETL Job Ended\")"
      ],
      "metadata": {
        "id": "Ci6PKNaTT6eo"
      },
      "execution_count": null,
      "outputs": []
    }
  ]
}